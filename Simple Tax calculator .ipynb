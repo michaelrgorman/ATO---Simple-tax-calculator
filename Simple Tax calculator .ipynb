{
 "cells": [
  {
   "cell_type": "code",
   "execution_count": null,
   "id": "82c05293",
   "metadata": {},
   "outputs": [],
   "source": [
    "#Resident tax rates 2020–21\n",
    "#Taxable income\n",
    "\n",
    "#Tax on this income\n",
    "\n",
    "#0 – $18,200\n",
    "#Nil\n",
    "\n",
    "#$18,201 – $45,000\n",
    "#19 cents for each $1 over $18,200\n",
    "\n",
    "#$45,001 – $120,000\n",
    "#$5,092 plus 32.5 cents for each $1 over $45,000\n",
    "\n",
    "#$120,001 – $180,000\n",
    "#$29,467 plus 37 cents for each $1 over $120,000\n",
    "\n",
    "#$180,001 and over\n",
    "#$51,667 plus 45 cents for each $1 over $180,000\n",
    "\n",
    "\n"
   ]
  },
  {
   "cell_type": "code",
   "execution_count": 8,
   "id": "7cc8b6a6",
   "metadata": {},
   "outputs": [
    {
     "name": "stdout",
     "output_type": "stream",
     "text": [
      "Enter your taxable income from 2020/2021:12\n",
      "\n",
      "Taxable income without any deductions is $12\n",
      "\n",
      "Tax paid on income\n",
      "0\n",
      "\n",
      "Your take home pay is\n",
      "12\n",
      "\n",
      "Your effective tax rate it: \n",
      "0.0\n"
     ]
    }
   ],
   "source": [
    "#Calculate tax from user input without any deductions \n",
    "\n",
    "income = int(input(\"Enter your taxable income from 2020/2021:\"))\n",
    "def income_tax(income):\n",
    "    \"\"\"cacluate tax\"\"\"\n",
    "\n",
    "    if income < 18200:\n",
    "        return 0\n",
    "    elif income <= 45000:\n",
    "        return (income - 18200)*0.19\n",
    "    elif income  <= 120000:\n",
    "        return ((income - 45000)*0.325)+5092\n",
    "    elif income  <= 180000:\n",
    "        return ((income - 120000)*0.37)+29467\n",
    "    elif income  >= 180001:\n",
    "        return ((income - 180000)*0.45)+51667\n",
    "        \n",
    "    \n",
    "print(f\"\\nTaxable income without any deductions is ${income}\")\n",
    "print(\"\\nTax paid on income\")\n",
    "print(income_tax(income))\n",
    "print(\"\\nYour take home pay is\")\n",
    "print(income-income_tax(income))\n",
    "print(\"\\nYour effective tax rate it: \")\n",
    "print(income_tax(income)/income)\n"
   ]
  },
  {
   "cell_type": "code",
   "execution_count": 1,
   "id": "44ca5d96",
   "metadata": {},
   "outputs": [
    {
     "name": "stdout",
     "output_type": "stream",
     "text": [
      "Welcome, we can help you calculate your taxable income:\n",
      "Please enter deductions: if none, enter 0 123\n",
      "Enter your taxable income from 2020/2021:123123\n",
      "\n",
      "Taxable income without any deductions is $123123\n",
      "\n",
      "Taxable income after deductions is $123000\n",
      "\n",
      "Tax paid on income\n",
      "30577.0\n",
      "\n",
      "Your take home pay is\n",
      "92423.0\n",
      "\n",
      "Your effective tax rate is: \n",
      "24.859\n"
     ]
    }
   ],
   "source": [
    "#Calculate tax from user input with basic deductions \n",
    "\n",
    "print (\"Welcome, we can help you calculate your taxable income:\")\n",
    "deductions = int(input(\"Please enter deductions: if none, enter 0 \"))\n",
    "raw_income = int(input(\"Enter your taxable income from 2020/2021:\"))\n",
    "income = raw_income - deductions\n",
    "\n",
    "def income_tax(income):\n",
    "    \"\"\"cacluate tax\"\"\"\n",
    "\n",
    "    if income < 18200:\n",
    "        return 0\n",
    "    elif income <= 45000:\n",
    "        return (income - 18200)*0.19\n",
    "    elif income  <= 120000:\n",
    "        return ((income - 45000)*0.325)+5092\n",
    "    elif income  <= 180000:\n",
    "        return ((income - 120000)*0.37)+29467\n",
    "    elif income  >= 180001:\n",
    "        return ((income - 180000)*0.45)+51667\n",
    "    \n",
    "print(f\"\\nTaxable income without any deductions is ${raw_income}\")\n",
    "print(f\"\\nTaxable income after deductions is ${income}\")\n",
    "print(\"\\nTax paid on income\")\n",
    "print(income_tax(income))\n",
    "print(\"\\nYour take home pay is\")\n",
    "print(income-income_tax(income))\n",
    "print(\"\\nYour effective tax rate is: \")\n",
    "print(round((income_tax(income)/income)*100,3))\n"
   ]
  },
  {
   "cell_type": "code",
   "execution_count": null,
   "id": "2b01a2c3",
   "metadata": {},
   "outputs": [],
   "source": []
  },
  {
   "cell_type": "code",
   "execution_count": null,
   "id": "4c38f00f",
   "metadata": {},
   "outputs": [],
   "source": []
  },
  {
   "cell_type": "code",
   "execution_count": null,
   "id": "382a39d7",
   "metadata": {},
   "outputs": [],
   "source": []
  }
 ],
 "metadata": {
  "kernelspec": {
   "display_name": "Python 3 (ipykernel)",
   "language": "python",
   "name": "python3"
  },
  "language_info": {
   "codemirror_mode": {
    "name": "ipython",
    "version": 3
   },
   "file_extension": ".py",
   "mimetype": "text/x-python",
   "name": "python",
   "nbconvert_exporter": "python",
   "pygments_lexer": "ipython3",
   "version": "3.9.5"
  }
 },
 "nbformat": 4,
 "nbformat_minor": 5
}
